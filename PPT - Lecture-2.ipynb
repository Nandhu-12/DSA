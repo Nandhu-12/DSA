{
 "cells": [
  {
   "cell_type": "markdown",
   "id": "4cfe735f",
   "metadata": {},
   "source": [
    "# PPT - Lecture-2"
   ]
  },
  {
   "cell_type": "markdown",
   "id": "60a645e0",
   "metadata": {},
   "source": [
    "1) Given an array nums containing n distinct numbers in the range [0, n], return the\n",
    "only number in the range that is missing from the array."
   ]
  },
  {
   "cell_type": "code",
   "execution_count": 8,
   "id": "42be322c",
   "metadata": {},
   "outputs": [
    {
     "name": "stdout",
     "output_type": "stream",
     "text": [
      "1\n"
     ]
    }
   ],
   "source": [
    "def missingnum(arr,n):\n",
    "    arr_set = set(arr)\n",
    "    \n",
    "    expected_size = n+1\n",
    "    for num in range(expected_size):\n",
    "        if num not in arr_set:\n",
    "            return num\n",
    "        \n",
    "    return -1\n",
    "\n",
    "if __name__ == \"__main__\":\n",
    "    arr = [3,2,0]\n",
    "    n = 3\n",
    "    print(missingnum(arr,n))"
   ]
  },
  {
   "cell_type": "markdown",
   "id": "2cbc0b1d",
   "metadata": {},
   "source": [
    "2) Given an array of intervals where intervals[i] = [starti, endi], merge all overlapping\n",
    "intervals, and return an array of the non-overlapping intervals that cover all the\n",
    "intervals in the input."
   ]
  },
  {
   "cell_type": "code",
   "execution_count": 39,
   "id": "c212d2cd",
   "metadata": {},
   "outputs": [
    {
     "name": "stdout",
     "output_type": "stream",
     "text": [
      "[[1, 6], [8, 10], [15, 18]]\n"
     ]
    }
   ],
   "source": [
    "def merge(intervals):\n",
    "        intervals.sort(key=lambda x: x[0])\n",
    "        merged = []\n",
    "        for interval in intervals:\n",
    "            if not merged or merged[-1][1] < interval[0]:\n",
    "                merged.append(interval)\n",
    "            else:\n",
    "                merged[-1][1] = max(merged[-1][1], interval[1])\n",
    "        return merged\n",
    "    \n",
    "if __name__ == \"__main__\":\n",
    "    intervals = [[1,3],[2,6],[8,10],[15,18]]\n",
    "    print(merge(intervals))"
   ]
  },
  {
   "cell_type": "markdown",
   "id": "4149ff58",
   "metadata": {},
   "source": [
    "3) You are given two integer arrays nums1 and nums2, sorted in non-decreasing\n",
    "order, and two integers m and n, representing the number of elements in nums1\n",
    "and nums2 respectively.\n",
    "\n",
    "Merge nums1 and nums2 into a single array sorted in non-decreasing order.\n",
    "The final sorted array should not be returned by the function, but instead be\n",
    "stored inside the array nums1. To accommodate this, nums1 has a length of m +\n",
    "n, where the first m elements denote the elements that should be merged, and the\n",
    "last n elements are set to 0 and should be ignored. nums2 has a length of n."
   ]
  },
  {
   "cell_type": "markdown",
   "id": "0a85fe5d",
   "metadata": {},
   "source": [
    "**Method-1: 2 pointer Approach                                                                                                               \n",
    "TC : O(m+n)                                                                                                                                       \n",
    "SC : O(m)** "
   ]
  },
  {
   "cell_type": "code",
   "execution_count": 3,
   "id": "84541cd5",
   "metadata": {},
   "outputs": [
    {
     "name": "stdout",
     "output_type": "stream",
     "text": [
      "[1, 2, 2, 3, 5, 6]\n"
     ]
    }
   ],
   "source": [
    "class Solution:\n",
    "    def merge(self, nums1, m, nums2, n):\n",
    "        new_arr = nums1[:m]\n",
    "        p1, p2 = 0, 0\n",
    "        p = 0\n",
    " \n",
    "        while p < m + n:\n",
    "            if (p1 < m and new_arr[p1] < nums2[p2]):\n",
    "                nums1[p] = new_arr[p1]\n",
    "                p1 += 1\n",
    "            else:\n",
    "                nums1[p] = nums2[p2]\n",
    "                p2 += 1\n",
    "            p += 1\n",
    "            \n",
    "        return nums1\n",
    "            \n",
    "if __name__ == \"__main__\":    \n",
    "    nums1 = [1,2,3,0,0,0]\n",
    "    m = 3\n",
    "    nums2 = [2,5,6]\n",
    "    n = 3\n",
    "    sol = Solution()\n",
    "    print(sol.merge(nums1, m, nums2, n))"
   ]
  },
  {
   "cell_type": "markdown",
   "id": "2019a855",
   "metadata": {},
   "source": [
    "4) Given an array nums of size n, return the majority element.\n",
    "The majority element is the element that appears more than ⌊n / 2⌋ times. You may assume that the majority element always exists in the array."
   ]
  },
  {
   "cell_type": "markdown",
   "id": "e7fc8a3d",
   "metadata": {},
   "source": [
    "**Method-1: Hash map                                                                                                               \n",
    "TC : O(n)                                                                                                                                       \n",
    "SC : O(n)** "
   ]
  },
  {
   "cell_type": "code",
   "execution_count": 4,
   "id": "c856206b",
   "metadata": {},
   "outputs": [
    {
     "data": {
      "text/plain": [
       "3"
      ]
     },
     "execution_count": 4,
     "metadata": {},
     "output_type": "execute_result"
    }
   ],
   "source": [
    "def findMajority(arr, n):\n",
    "    m = {}\n",
    "    for i in range(n):\n",
    "        if arr[i] in m:\n",
    "            m[arr[i]] += 1\n",
    "        else:\n",
    "            m[arr[i]] = 1\n",
    "\n",
    "    for key in m:\n",
    "        if m[key] > n / 2:\n",
    "            break\n",
    "    return key\n",
    "\n",
    "arr = [3,2,3]\n",
    "n = len(arr)\n",
    "\n",
    "findMajority(arr, n)"
   ]
  },
  {
   "cell_type": "markdown",
   "id": "73ab38e3",
   "metadata": {},
   "source": [
    "5) Given an array of integers nums containing n + 1 integers where each integer is in the range [1, n] inclusive.\n",
    "There is only one repeated number in nums, return this repeated number.\n",
    "You must solve the problem without modifying the array nums and uses only constant extra space."
   ]
  },
  {
   "cell_type": "markdown",
   "id": "b5c0b570",
   "metadata": {},
   "source": [
    "**Method-1: Hash map                                                                                                               \n",
    "TC : O(n)                                                                                                                                       \n",
    "SC : O(1)** "
   ]
  },
  {
   "cell_type": "code",
   "execution_count": 2,
   "id": "03516aa1",
   "metadata": {},
   "outputs": [
    {
     "name": "stdout",
     "output_type": "stream",
     "text": [
      "2\n"
     ]
    }
   ],
   "source": [
    "def repeated(nums):\n",
    "    size = len(nums)\n",
    "    for i in range(size):\n",
    "        x = nums[i] % size\n",
    "        nums[x] = nums[x] + size\n",
    "\n",
    "    for i in range(size):\n",
    "        if(nums[i] >= (size*2)):\n",
    "            return i\n",
    "        \n",
    "nums = [1,3,4,2,2]\n",
    "print(repeated(nums))"
   ]
  },
  {
   "cell_type": "markdown",
   "id": "1caaef2f",
   "metadata": {},
   "source": [
    "**Method-2: Hash set                                                                                                               \n",
    "TC : O(n)                                                                                                                                       \n",
    "SC : O(n)**"
   ]
  },
  {
   "cell_type": "code",
   "execution_count": 6,
   "id": "336b4f6e",
   "metadata": {},
   "outputs": [
    {
     "name": "stdout",
     "output_type": "stream",
     "text": [
      "2\n"
     ]
    }
   ],
   "source": [
    "def dup(nums):\n",
    "    s = set()\n",
    "    for i in nums:\n",
    "        if i not in s:\n",
    "            s.add(i)\n",
    "        else:\n",
    "            return i\n",
    "    return -1\n",
    "\n",
    "nums = [1,3,4,2,2]\n",
    "print(dup(nums))"
   ]
  },
  {
   "cell_type": "markdown",
   "id": "5de885a3",
   "metadata": {},
   "source": [
    "6) There are many situations where we use integer values as index in array to see presence or absence. We can use bit manipulations to optimize space in such problems.\n",
    "\n",
    "Let us consider the below problem as an example.\n",
    "\n",
    "Given two numbers say a and b, mark the multiples of 2 and 5 between a and b and output each of the multiples.\n",
    "\n",
    "Note : We have to mark the multiples i.e save (key, value) pairs in memory such that each key either has a value as 1 or 0 representing a multiple of 2 or 5 or not respectively."
   ]
  },
  {
   "cell_type": "markdown",
   "id": "8bbec46f",
   "metadata": {},
   "source": [
    "**Method-1: Bit Manipulation                                                                                                              \n",
    "TC : O(b-a)                                                                                                                                       \n",
    "SC : O(b-a)**"
   ]
  },
  {
   "cell_type": "code",
   "execution_count": 8,
   "id": "f2a4fc81",
   "metadata": {},
   "outputs": [
    {
     "name": "stdout",
     "output_type": "stream",
     "text": [
      "2 4 5 6 8 10 "
     ]
    }
   ],
   "source": [
    "def main():\n",
    "    a = 2\n",
    "    b = 10\n",
    "    size = abs(b - a) + 1\n",
    "    array = [0] * size\n",
    " \n",
    "    for i in range(a, b + 1):\n",
    "        if i % 2 == 0 or i % 5 == 0:\n",
    "            array[i - a] = 1\n",
    " \n",
    "    for i in range(a, b + 1):\n",
    "        if array[i - a] == 1:\n",
    "            print(i, end=' ')\n",
    " \n",
    "if __name__ == '__main__':\n",
    "    main()"
   ]
  },
  {
   "cell_type": "markdown",
   "id": "4881c571",
   "metadata": {},
   "source": [
    "**Method-2: Bit Manipulation                                                                                                              \n",
    "TC : O(b-a)                                                                                                                                       \n",
    "SC : O(1)**"
   ]
  },
  {
   "cell_type": "code",
   "execution_count": 15,
   "id": "b1e7e2b9",
   "metadata": {},
   "outputs": [
    {
     "name": "stdout",
     "output_type": "stream",
     "text": [
      "2\n",
      "4\n",
      "5\n",
      "6\n",
      "8\n",
      "10\n",
      "None\n"
     ]
    }
   ],
   "source": [
    "def num(a,b):\n",
    "    \n",
    "    for i in range(a, b+1):\n",
    "        if i % 2 == 0 or i % 5 == 0:\n",
    "            print(i)\n",
    "\n",
    "\n",
    "a = 2\n",
    "b = 10\n",
    "print(num(a,b))"
   ]
  },
  {
   "cell_type": "markdown",
   "id": "6cff29ac",
   "metadata": {},
   "source": [
    "7) Given an array of positive integers. We need to make the given array a ‘Palindrome’. The only allowed operation is”merging” (of two adjacent elements). Merging two adjacent elements means replacing them with their sum. The task is to find the minimum number of merge operations required to make the given array a ‘Palindrome’.\n",
    "\n",
    "To make any array a palindrome, we can simply apply merge operation n-1 times where n is the size of the array (because a single-element array is always palindromic, similar to a single-character string). In that case, the size of array will be reduced to 1. But in this problem, we are asked to do it in the minimum number of operations."
   ]
  },
  {
   "cell_type": "markdown",
   "id": "a763ec4d",
   "metadata": {},
   "source": [
    "**Method-1: 2 Pointer Approach                                                                                                           \n",
    "TC : O(n)                                                                                                                                       \n",
    "SC : O(1)**"
   ]
  },
  {
   "cell_type": "code",
   "execution_count": 20,
   "id": "61401247",
   "metadata": {},
   "outputs": [
    {
     "name": "stdout",
     "output_type": "stream",
     "text": [
      "1\n"
     ]
    }
   ],
   "source": [
    "def palindrome(arr):\n",
    "    n = len(arr)\n",
    "    l,h = 0,n-1\n",
    "    merging = 0\n",
    "    while l<=h:\n",
    "        if arr[l] == arr[h]:\n",
    "            l += 1\n",
    "            h -= 1\n",
    "            \n",
    "        elif arr[l] > arr[h]:\n",
    "            h -= 1\n",
    "            arr[h] = arr[h] + arr[h+1]\n",
    "            merging += 1\n",
    "            \n",
    "        else :\n",
    "            l += 1\n",
    "            arr[l] = arr[l] + arr[l-1]\n",
    "            merging += 1\n",
    "            \n",
    "    return merging\n",
    "\n",
    "\n",
    "arr = [1,4,5,9,1]\n",
    "print(palindrome(arr))"
   ]
  },
  {
   "cell_type": "code",
   "execution_count": null,
   "id": "1b2b39ef",
   "metadata": {},
   "outputs": [],
   "source": []
  }
 ],
 "metadata": {
  "kernelspec": {
   "display_name": "Python 3 (ipykernel)",
   "language": "python",
   "name": "python3"
  },
  "language_info": {
   "codemirror_mode": {
    "name": "ipython",
    "version": 3
   },
   "file_extension": ".py",
   "mimetype": "text/x-python",
   "name": "python",
   "nbconvert_exporter": "python",
   "pygments_lexer": "ipython3",
   "version": "3.9.12"
  }
 },
 "nbformat": 4,
 "nbformat_minor": 5
}
