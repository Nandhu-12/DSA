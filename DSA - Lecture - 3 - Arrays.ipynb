{
 "cells": [
  {
   "cell_type": "markdown",
   "id": "2b393409",
   "metadata": {},
   "source": [
    "# DSA - Lecture - 3 - Arrays"
   ]
  },
  {
   "cell_type": "markdown",
   "id": "5d2e6cf8",
   "metadata": {},
   "source": [
    "**Problem-1 : **Implement [pow(x, n)](http://www.cplusplus.com/reference/valarray/pow/), which calculates x raised to the power n (i.e., xn).**\n",
    "\n",
    "**Example 1:**\n",
    "\n",
    "**Input: x = 2.00000, n = 10**\n",
    "\n",
    "**Output: 1024.00000**\n",
    "\n",
    "**TC : O(log n)**\n",
    "\n",
    "**SC : O(1)**"
   ]
  },
  {
   "cell_type": "code",
   "execution_count": 5,
   "id": "ef611c95",
   "metadata": {},
   "outputs": [
    {
     "name": "stdout",
     "output_type": "stream",
     "text": [
      "1024\n"
     ]
    }
   ],
   "source": [
    "# Approach-1 : Brute force\n",
    "\n",
    "x = 2\n",
    "n = 10\n",
    "res = 1\n",
    "# so here it is x^n\n",
    "\n",
    "for i in range(1,n+1):\n",
    "    res *= x\n",
    "print(res)\n",
    "\n",
    "# Time Complexity = O(n)"
   ]
  },
  {
   "cell_type": "code",
   "execution_count": 23,
   "id": "cdbff134",
   "metadata": {},
   "outputs": [
    {
     "name": "stdout",
     "output_type": "stream",
     "text": [
      "1024.0\n"
     ]
    }
   ],
   "source": [
    "# Approach-2 : Recursion\n",
    "\n",
    "# if n is even then (x^2)^n/2\n",
    "# if n is odd then x*(x^2)^n/2\n",
    "# if n is negative then (1/x)^n\n",
    "\n",
    "\n",
    "def pow(x, n):\n",
    "    if n == 0:\n",
    "        return 1\n",
    "    if n < 0:\n",
    "        n = -n\n",
    "        x = 1 / x\n",
    "    return x * pow(x * x, n // 2) if (n % 2 != 0) else pow(x * x, n // 2)\n",
    "    \n",
    "x = 2.00000\n",
    "n = 10\n",
    "print(pow(x,n)) \n",
    "    \n",
    "# Time Complexity = O(logn)\n",
    "# Space Complexity = O(logn)"
   ]
  },
  {
   "cell_type": "markdown",
   "id": "f6786bcf",
   "metadata": {},
   "source": [
    "**Problem-2 : **A permutation of an array of integers is an arrangement of its members into a sequence or linear order.**\n",
    "\n",
    "- **For example, for arr = [1,2,3], the following are all the permutations of arr: [1,2,3], [1,3,2], [2, 1, 3], [2, 3, 1], [3,1,2], [3,2,1].**\n",
    "\n",
    "**The next permutation of an array of integers is the next lexicographically greater permutation of its integer. More formally, if all the permutations of the array are sorted in one container according to their lexicographical order, then the next permutation of that array is the permutation that follows it in the sorted container. If such arrangement is not possible, the array must be rearranged as the lowest possible order (i.e., sorted in ascending order).**\n",
    "\n",
    "- **For example, the next permutation of arr = [1,2,3] is [1,3,2].**\n",
    "- **Similarly, the next permutation of arr = [2,3,1] is [3,1,2].**\n",
    "- **While the next permutation of arr = [3,2,1] is [1,2,3] because [3,2,1] does not have a lexicographical larger rearrangement.**\n",
    "\n",
    "**Given an array of integers nums, *find the next permutation of* nums.**\n",
    "\n",
    "**The replacement must be [in place](http://en.wikipedia.org/wiki/In-place_algorithm) and use only constant extra memory.**\n",
    "\n",
    "**Example 1:**\n",
    "\n",
    "**Input: nums = [1,2,3]**\n",
    "\n",
    "**Output: [1,3,2]**\n",
    "\n",
    "**Time complexity: *O*(*n*). In worst case, only two scans of the whole array are needed.**\n",
    "\n",
    "**Space complexity: *O*(1). No extra space is used. In place replacements are done.**"
   ]
  },
  {
   "cell_type": "code",
   "execution_count": 26,
   "id": "fd515594",
   "metadata": {},
   "outputs": [
    {
     "name": "stdout",
     "output_type": "stream",
     "text": [
      "[1, 2, 10, 3]\n"
     ]
    }
   ],
   "source": [
    "def next_permutation(nums):\n",
    "    i = len(nums) - 2\n",
    "    while i >= 0 and nums[i + 1] <= nums[i]:\n",
    "        i -= 1\n",
    "    if i >= 0:\n",
    "        j = len(nums) - 1\n",
    "        while nums[j] <= nums[i]:\n",
    "            j -= 1\n",
    "        nums[i], nums[j] = nums[j], nums[i]\n",
    "    return reverse(nums, i + 1)\n",
    "\n",
    "\n",
    "def reverse(nums, start):\n",
    "    i, j = start, len(nums) - 1\n",
    "    while i < j:\n",
    "        nums[i], nums[j] = nums[j], nums[i]\n",
    "        i += 1\n",
    "        j -= 1\n",
    "    return nums\n",
    "nums = [1,2,3,10]\n",
    "print(next_permutation(nums))\n",
    "\n",
    "    \n",
    "# Time Complexity = O(n)\n",
    "# Space Complexity = O(1)"
   ]
  },
  {
   "cell_type": "markdown",
   "id": "0a64b8fa",
   "metadata": {},
   "source": [
    "**Problem-3 : **Given an array arr[] of distinct elements size N that is sorted and then around an unknown point, the task is to check if the array has a pair with a given sum X.**\n",
    "\n",
    "**Examples :**\n",
    "\n",
    "**Input: arr[] = {11, 15, 6, 8, 9, 10}, X = 16**\n",
    "\n",
    "**Output: true**\n",
    "\n",
    "**Explanation: There is a pair (6, 10) with sum 16**\n",
    "\n",
    "**Time Complexity: O(n), where n is the length of the input array.**\n",
    "\n",
    "**Space Complexity: O(1)**"
   ]
  },
  {
   "cell_type": "code",
   "execution_count": 33,
   "id": "97878b17",
   "metadata": {},
   "outputs": [
    {
     "name": "stdout",
     "output_type": "stream",
     "text": [
      "6 10\n"
     ]
    }
   ],
   "source": [
    "# Approach-1 : Brute Force\n",
    "\n",
    "arr = [11,15,6,8,9,10]\n",
    "x = 16\n",
    "for i in range(len(arr)):\n",
    "    for j in range(i+1,len(arr)):\n",
    "        if arr[i] + arr[j] == x:\n",
    "            print(arr[i],arr[j])\n",
    "            \n",
    "    \n",
    "# Time Complexity = O(n^2)\n",
    "# Space Complexity = O(1)"
   ]
  },
  {
   "cell_type": "code",
   "execution_count": 34,
   "id": "63a4e921",
   "metadata": {},
   "outputs": [
    {
     "name": "stdout",
     "output_type": "stream",
     "text": [
      "True\n"
     ]
    }
   ],
   "source": [
    "# Approach-2 : 2-Pointers \n",
    "\n",
    "def find_pair(arr, x):\n",
    "    n = len(arr)\n",
    "    # find pivot element\n",
    "    pivot = 0\n",
    "    for i in range(n - 1):\n",
    "        if arr[i] > arr[i + 1]:\n",
    "            pivot = i + 1\n",
    "            break\n",
    "    left = pivot\n",
    "    right = pivot - 1\n",
    "    while left != right:\n",
    "        if arr[left] + arr[right] == x:\n",
    "            return True\n",
    "        elif arr[left] + arr[right] < x:\n",
    "            left = (left + 1) % n\n",
    "        else:\n",
    "            right = (right - 1 + n) % n\n",
    "    return False\n",
    "\n",
    "\n",
    "arr = [11, 15, 6, 8, 9, 10]\n",
    "x = 16\n",
    "print(find_pair(arr, x))\n",
    "\n",
    "    \n",
    "# Time Complexity = O(n)\n",
    "# Space Complexity = O(1)"
   ]
  },
  {
   "cell_type": "markdown",
   "id": "f74533bd",
   "metadata": {},
   "source": [
    "**Problem-4 : **Given an array nums with n objects colored red, white, or blue, sort them [in-place](https://en.wikipedia.org/wiki/In-place_algorithm) so that objects of the same color are adjacent, with the colors in the order red, white, and blue.**\n",
    "\n",
    "**We will use the integers 0, 1, and 2 to represent the color red, white, and blue, respectively.**\n",
    "\n",
    "**You must solve this problem without using the library's sort function.**\n",
    "\n",
    "**Example 1:**\n",
    "\n",
    "**Input: nums = [2,0,2,1,1,0]**\n",
    "\n",
    "**Output: [0,0,1,1,2,2]**\n",
    "\n",
    "**Solution:**\n",
    "\n",
    "**TC : O(n)**\n",
    "\n",
    "**SC : O(1**"
   ]
  },
  {
   "cell_type": "code",
   "execution_count": 35,
   "id": "cc9371c8",
   "metadata": {},
   "outputs": [
    {
     "name": "stdout",
     "output_type": "stream",
     "text": [
      "[0, 0, 1, 1, 2, 2]\n"
     ]
    }
   ],
   "source": [
    "#Approch : 2 Pointer Approach\n",
    "\n",
    "def sort_colors(arr):\n",
    "    p0 = curr = 0\n",
    "    p2 = len(arr)-1\n",
    "    \n",
    "    while curr <= p2:\n",
    "        if arr[curr] == 0:\n",
    "            arr[curr],arr[p0] = arr[p0],arr[curr]\n",
    "            p0 += 1\n",
    "            curr += 1\n",
    "            \n",
    "        elif arr[curr] == 2:\n",
    "            arr[curr],arr[p2] = arr[p2],arr[curr]\n",
    "            p2 -= 1\n",
    "        \n",
    "        else:\n",
    "            curr += 1\n",
    "            \n",
    "    return arr\n",
    "    \n",
    "arr = [2,0,2,1,1,0]\n",
    "colors = sort_colors(arr)\n",
    "print(colors)\n",
    "\n",
    "# Time Complexity = O(n)\n",
    "# Space Complexity = O(1)"
   ]
  },
  {
   "cell_type": "markdown",
   "id": "52570066",
   "metadata": {},
   "source": [
    "**Problem-5 : **Given an integer array nums, rotate the array to the right by k steps, where k is non-negative.**\n",
    "\n",
    "**Example 1:**\n",
    "\n",
    "**Input: nums = [1,2,3,4,5,6,7], k = 3**\n",
    "\n",
    "**Output: [5,6,7,1,2,3,4]**\n",
    "\n",
    "**Explanation:**\n",
    "\n",
    "**rotate 1 steps to the right: [7,1,2,3,4,5,6]**\n",
    "\n",
    "**rotate 2 steps to the right: [6,7,1,2,3,4,5]**\n",
    "\n",
    "**rotate 3 steps to the right: [5,6,7,1,2,3,4]**\n",
    "\n",
    "**Solution:**\n",
    "\n",
    "**TC: O(n)**\n",
    "\n",
    "**SC: O(1)**"
   ]
  },
  {
   "cell_type": "code",
   "execution_count": 38,
   "id": "679d0ac5",
   "metadata": {},
   "outputs": [
    {
     "name": "stdout",
     "output_type": "stream",
     "text": [
      "3 4 5 1 2 \n",
      "\n"
     ]
    }
   ],
   "source": [
    "def RightRotate(a, n, k):\n",
    "    k = k % n\n",
    "    for i in range(0, n):\n",
    "        if (i < k):\n",
    "            print(a[n + i - k], end=\" \")\n",
    "        else:\n",
    "            print(a[i - k], end=\" \")\n",
    "    print(\"\\n\")\n",
    "\n",
    "\n",
    "# Driver code\n",
    "Array = [1, 2, 3, 4, 5]\n",
    "N = len(Array)\n",
    "K = 3\n",
    "\n",
    "RightRotate(Array, N, K)\n",
    "\n",
    "# Time Complexity = O(n)\n",
    "# Space Complexity = O(1)\n"
   ]
  },
  {
   "cell_type": "markdown",
   "id": "233c0574",
   "metadata": {},
   "source": [
    "**Problem-6 : **Given a binary array nums, return *the maximum number of consecutive* 1*'s in the array*.**\n",
    "\n",
    "**Example 1:**\n",
    "\n",
    "**Input: nums = [1,1,0,1,1,1]**\n",
    "\n",
    "**Output: 3**\n",
    "\n",
    "**Explanation: The first two digits or the last three digits are consecutive 1s. The maximum number of consecutive 1s is 3.**\n",
    "\n",
    "**Solution:**\n",
    "\n",
    "**TC : O(n)**\n",
    "\n",
    "**SC : O(1)**"
   ]
  },
  {
   "cell_type": "code",
   "execution_count": 40,
   "id": "adfd7e76",
   "metadata": {},
   "outputs": [
    {
     "name": "stdout",
     "output_type": "stream",
     "text": [
      "4\n"
     ]
    }
   ],
   "source": [
    "def getMaxLength(arr, n):\n",
    "    count = 0\n",
    "    result = 0\n",
    "\n",
    "    for i in range(0, n):\n",
    "        if (arr[i] == 0):\n",
    "            count = 0\n",
    "        else:\n",
    "            count += 1\n",
    "            result = max(result, count)\n",
    "\n",
    "    return result\n",
    "\n",
    "arr = [1, 1, 0, 0, 1, 0, 1, 0, 1, 1, 1, 1]\n",
    "n = len(arr)\n",
    "\n",
    "print(getMaxLength(arr, n))\n",
    "\n",
    "# Time Complexity = O(n)\n",
    "# Space Complexity = O(1)\n"
   ]
  },
  {
   "cell_type": "code",
   "execution_count": null,
   "id": "693e4a0f",
   "metadata": {},
   "outputs": [],
   "source": []
  }
 ],
 "metadata": {
  "kernelspec": {
   "display_name": "Python 3 (ipykernel)",
   "language": "python",
   "name": "python3"
  },
  "language_info": {
   "codemirror_mode": {
    "name": "ipython",
    "version": 3
   },
   "file_extension": ".py",
   "mimetype": "text/x-python",
   "name": "python",
   "nbconvert_exporter": "python",
   "pygments_lexer": "ipython3",
   "version": "3.9.12"
  }
 },
 "nbformat": 4,
 "nbformat_minor": 5
}
