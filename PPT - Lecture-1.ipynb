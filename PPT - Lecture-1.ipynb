{
 "cells": [
  {
   "cell_type": "markdown",
   "id": "bfbc9677",
   "metadata": {},
   "source": [
    "# PPT - Lecture-1"
   ]
  },
  {
   "cell_type": "markdown",
   "id": "571045d0",
   "metadata": {},
   "source": [
    "1)  Given an array of size N. The task is to find the maximum and the minimum element of the array using the minimum number of comparisons."
   ]
  },
  {
   "cell_type": "code",
   "execution_count": 15,
   "id": "0c6aa6b5",
   "metadata": {},
   "outputs": [
    {
     "name": "stdout",
     "output_type": "stream",
     "text": [
      "Minimum element is -4\n",
      "Maximum element is 9\n"
     ]
    }
   ],
   "source": [
    "class pair():\n",
    "    def __init__(self):\n",
    "        self.max = 0\n",
    "        self.min = 0\n",
    "        \n",
    "def getminmax(arr : list, n : int)->pair:\n",
    "    minmax = pair()\n",
    "    \n",
    "    # if 0 elements in array\n",
    "    if n == 0:\n",
    "        minmax.max = 0\n",
    "        minmax.min = 0\n",
    "        return minmax\n",
    "    \n",
    "    # if 1 element in array \n",
    "    elif n == 1:\n",
    "        minmax.max = arr[0]\n",
    "        minmax.min = arr[0]\n",
    "        return minmax\n",
    "    \n",
    "    # if there are more than 1 element in array\n",
    "    if arr[0] > arr[1]:\n",
    "        minmax.max = arr[0]\n",
    "        minmax.min = arr[1]\n",
    "        \n",
    "    else:\n",
    "        minmax.max = arr[1]\n",
    "        minmax.min = arr[0]\n",
    "        \n",
    "    for i in range(2,n):\n",
    "        if arr[i] > minmax.max:\n",
    "            minmax.max = arr[i]\n",
    "        elif arr[i] < minmax.min:\n",
    "            minmax.min = arr[i]\n",
    "            \n",
    "    return minmax\n",
    "\n",
    "if __name__ == \"__main__\":\n",
    "    arr = [3, 5, -4, 1, 9]\n",
    "    n = 5\n",
    "    result = getminmax(arr,n)\n",
    "    print(\"Minimum element is\", result.min)\n",
    "    print(\"Maximum element is\", result.max)"
   ]
  },
  {
   "cell_type": "markdown",
   "id": "1628004d",
   "metadata": {},
   "source": [
    "2) You are given an array prices where prices[i] is the price of a given stock on the ith day.\n",
    "\n",
    "You want to maximize your profit by choosing a single day to buy one stock and choosing a different day in the future to sell that stock.\n",
    "\n",
    "Return the maximum profit you can achieve from this transaction. If you cannot achieve any profit, return 0.\n"
   ]
  },
  {
   "cell_type": "code",
   "execution_count": 58,
   "id": "e51761b0",
   "metadata": {},
   "outputs": [
    {
     "name": "stdout",
     "output_type": "stream",
     "text": [
      "the profit is : 9\n"
     ]
    }
   ],
   "source": [
    "def profit (prices : list):\n",
    "    \n",
    "    # initializing min with the maximum possible value\n",
    "    min_price = float('inf')\n",
    "    max_profit = 0\n",
    "\n",
    "    for i in range (len(prices)):\n",
    "        if min_price > prices[i]:\n",
    "            min_price = prices[i]\n",
    "\n",
    "        elif prices[i] - min_price > max_profit:\n",
    "            max_profit = prices[i] - min_price\n",
    "\n",
    "    return max_profit\n",
    "    \n",
    "if __name__ == \"__main__\":\n",
    "    prices = [7,1,5,3,6,10]\n",
    "    result1 = profit(prices)\n",
    "    print(\"the profit is :\", result1)"
   ]
  },
  {
   "cell_type": "markdown",
   "id": "4ddafa8e",
   "metadata": {},
   "source": [
    "3) Given an integer array nums, find a subarray that has the largest product, and return the product.\n",
    "\n",
    "The test cases are generated so that the answer will fit in a 32-bit integer."
   ]
  },
  {
   "cell_type": "code",
   "execution_count": 79,
   "id": "72224e4f",
   "metadata": {},
   "outputs": [
    {
     "name": "stdout",
     "output_type": "stream",
     "text": [
      "the largest product is : 6\n"
     ]
    }
   ],
   "source": [
    "def subarray(nums : list):\n",
    "    if len(nums) == 0:\n",
    "        return 0\n",
    "    \n",
    "    max_so_far = nums[0]\n",
    "    min_so_far = nums[0]\n",
    "    result = max_so_far\n",
    "    \n",
    "    for i in range(1,len(nums)):\n",
    "        curr = nums[i]\n",
    "        temp_max = max(max_so_far*curr, min_so_far*curr, curr)\n",
    "        min_so_far = min(max_so_far*curr, min_so_far*curr, curr)\n",
    "        \n",
    "        max_so_far = temp_max\n",
    "\n",
    "        ans = max(max_so_far, result)\n",
    "        return ans\n",
    "    \n",
    "    \n",
    "if __name__ == \"__main__\":\n",
    "    nums = [2,3,-2,4]\n",
    "    result2 = subarray(nums)\n",
    "    print(\"the largest product is :\", result2)"
   ]
  },
  {
   "cell_type": "markdown",
   "id": "c9a609f8",
   "metadata": {},
   "source": [
    "4) Given an integer array nums, return all the triplets [nums[i], nums[j], nums[k]] such that i != j, i != k, and j != k, and nums[i] + nums[j] + nums[k] == 0.\n",
    "\n",
    "Notice that the solution set must not contain duplicate triplets."
   ]
  },
  {
   "cell_type": "code",
   "execution_count": 51,
   "id": "19ab9f0b",
   "metadata": {},
   "outputs": [
    {
     "name": "stdout",
     "output_type": "stream",
     "text": [
      "[[-1, -1, 2], [-1, 0, 1]]\n"
     ]
    }
   ],
   "source": [
    "class Solution:\n",
    "    def __init__ (self,nums):\n",
    "        self.nums = nums\n",
    "        \n",
    "    def threeSum(self, nums: list[int]) -> list[list[int]]:\n",
    "        res = []\n",
    "        nums.sort()\n",
    "        for i in range(len(nums)):\n",
    "            if nums[i] > 0:\n",
    "                break\n",
    "            if i == 0 or nums[i - 1] != nums[i]:\n",
    "                self.twoSumII(nums, i, res)\n",
    "        return res\n",
    " \n",
    "    def twoSumII(self, nums: list[int], i: int, res: list[list[int]]):\n",
    "        lo, hi = i + 1, len(nums) - 1\n",
    "        while (lo < hi):\n",
    "            sum = nums[i] + nums[lo] + nums[hi]\n",
    "            if sum < 0:\n",
    "                lo += 1\n",
    "            elif sum > 0:\n",
    "                hi -= 1\n",
    "            else:\n",
    "                res.append([nums[i], nums[lo], nums[hi]])\n",
    "                lo += 1\n",
    "                hi -= 1\n",
    "                while lo < hi and nums[lo] == nums[lo - 1]:\n",
    "                    lo += 1\n",
    "                    \n",
    "\n",
    "if __name__ == \"__main__\":\n",
    "    nums = [-1,0,1,2,-1,-4]\n",
    "    final = Solution(nums)\n",
    "    print(final.threeSum(nums))"
   ]
  },
  {
   "cell_type": "markdown",
   "id": "7c65294c",
   "metadata": {},
   "source": [
    "5) Given an integer array nums and an integer k, return the kth largest element in the array. Note that it is the kth largest element in the sorted order, not the kth distinct element."
   ]
  },
  {
   "cell_type": "code",
   "execution_count": 91,
   "id": "59d11eb2",
   "metadata": {},
   "outputs": [
    {
     "name": "stdout",
     "output_type": "stream",
     "text": [
      "5\n"
     ]
    }
   ],
   "source": [
    "import heapq\n",
    "\n",
    "class Solution:\n",
    "    def __init__ (self,nums,k):\n",
    "        self.nums = nums\n",
    "        self.k = k\n",
    "        \n",
    "    def findKthLargest(self):\n",
    "        return heapq.nlargest(k, nums)[-1]\n",
    "    \n",
    "if __name__ == \"__main__\":    \n",
    "    nums = [3,2,1,5,6,4]\n",
    "    k = 2\n",
    "    sol = Solution(nums,k)\n",
    "    print(sol.findKthLargest())"
   ]
  },
  {
   "cell_type": "markdown",
   "id": "5ef803bf",
   "metadata": {},
   "source": [
    "6) Given an integer array nums and an integer k, return the kth smallest element in the array. Note that it is the kth smallest element in the sorted order, not the kth distinct element."
   ]
  },
  {
   "cell_type": "code",
   "execution_count": 92,
   "id": "ded7ff97",
   "metadata": {},
   "outputs": [
    {
     "name": "stdout",
     "output_type": "stream",
     "text": [
      "2\n"
     ]
    }
   ],
   "source": [
    "class Solution:\n",
    "    def __init__ (self,nums,k):\n",
    "        self.nums = nums\n",
    "        self.k = k\n",
    "        \n",
    "    def findKthLargest(self):\n",
    "        return heapq.nsmallest(k, nums)[-1]\n",
    "    \n",
    "if __name__ == \"__main__\":    \n",
    "    nums = [3,2,1,5,6,4]\n",
    "    k = 2\n",
    "    sol = Solution(nums,k)\n",
    "    print(sol.findKthLargest())"
   ]
  },
  {
   "cell_type": "code",
   "execution_count": null,
   "id": "03eb94ba",
   "metadata": {},
   "outputs": [],
   "source": []
  }
 ],
 "metadata": {
  "kernelspec": {
   "display_name": "Python 3 (ipykernel)",
   "language": "python",
   "name": "python3"
  },
  "language_info": {
   "codemirror_mode": {
    "name": "ipython",
    "version": 3
   },
   "file_extension": ".py",
   "mimetype": "text/x-python",
   "name": "python",
   "nbconvert_exporter": "python",
   "pygments_lexer": "ipython3",
   "version": "3.9.12"
  }
 },
 "nbformat": 4,
 "nbformat_minor": 5
}
